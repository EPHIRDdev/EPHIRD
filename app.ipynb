{
 "cells": [
  {
   "cell_type": "code",
   "execution_count": 1,
   "id": "4c66c408",
   "metadata": {},
   "outputs": [
    {
     "name": "stdout",
     "output_type": "stream",
     "text": [
      " * Serving Flask app '__main__'\n",
      " * Debug mode: on\n"
     ]
    },
    {
     "name": "stderr",
     "output_type": "stream",
     "text": [
      "WARNING: This is a development server. Do not use it in a production deployment. Use a production WSGI server instead.\n",
      " * Running on http://127.0.0.1:5000\n",
      "Press CTRL+C to quit\n",
      " * Restarting with watchdog (windowsapi)\n"
     ]
    },
    {
     "ename": "SystemExit",
     "evalue": "1",
     "output_type": "error",
     "traceback": [
      "An exception has occurred, use %tb to see the full traceback.\n",
      "\u001b[1;31mSystemExit\u001b[0m\u001b[1;31m:\u001b[0m 1\n"
     ]
    },
    {
     "name": "stderr",
     "output_type": "stream",
     "text": [
      "C:\\Users\\charl\\anaconda3\\Lib\\site-packages\\IPython\\core\\interactiveshell.py:3534: UserWarning: To exit: use 'exit', 'quit', or Ctrl-D.\n",
      "  warn(\"To exit: use 'exit', 'quit', or Ctrl-D.\", stacklevel=1)\n"
     ]
    }
   ],
   "source": [
    "from flask import Flask, render_template, request, jsonify\n",
    "import numpy as np\n",
    "import matplotlib.pyplot as plt\n",
    "import io\n",
    "import base64\n",
    "\n",
    "app = Flask(__name__)\n",
    "\n",
    "# Your Monte Carlo simulation functions\n",
    "def compute_B(N, Oc, W, C, L, Cl, Ee, A, En):\n",
    "    return ((N * Oc * W * C * (3.65e-4)) + (N * Oc * L * Cl * (3.65e-4)) - (Ee * A) + (En * A))\n",
    "\n",
    "def run_monte_carlo_simulation(N, Oc, W, C, L, Cl, Ee, A, En):\n",
    "    means = {\"N\": N, \"Oc\": Oc, \"W\": W, \"C\": C, \"L\": L, \"Cl\": Cl, \"Ee\": Ee, \"A\": A, \"En\": En}\n",
    "    std_devs = {\"N\": 0, \"Oc\": 0.09, \"W\": 5, \"C\": 0.19, \"L\": 10, \"Cl\": 0.15, \"Ee\": 0.01, \"A\": 0.1, \"En\": 0.3}\n",
    "\n",
    "    n_simulations = 100000\n",
    "    outputs = []\n",
    "\n",
    "    for _ in range(n_simulations):\n",
    "        sampled_values = {var: np.random.normal(mean, std_devs[var]) for var, mean in means.items()}\n",
    "        output = compute_B(**sampled_values)\n",
    "        outputs.append(output)\n",
    "\n",
    "    # Statistical Summary\n",
    "    results = {\n",
    "        'mean_output': np.mean(outputs),\n",
    "        'median_output': np.median(outputs),\n",
    "        'std_dev_output': np.std(outputs),\n",
    "        'percentiles' : np.percentile(outputs, [5, 25, 75, 95, 2.5, 95])\n",
    "    }\n",
    "\n",
    "    # Generate the histogram plot\n",
    "    \n",
    "    plt.figure(figsize=(10, 6))\n",
    "    plt.xlabel('Output')\n",
    "    plt.ylabel('Frequency')\n",
    "    plt.title('Monte Carlo Simulation Results')\n",
    "    plt.tight_layout()\n",
    "\n",
    "    # Convert plot to a PNG image in base64 format\n",
    "    img = io.BytesIO()\n",
    "    plt.savefig(img, format='png')\n",
    "    img.seek(0)\n",
    "    plot_url = base64.b64encode(img.getvalue()).decode()\n",
    "\n",
    "    return results, f\"data:image/png;base64,{plot_url}\"\n",
    "\n",
    "@app.route('/')\n",
    "def index():\n",
    "    return render_template('index.html')\n",
    "\n",
    "@app.route('/run_simulation', methods=['POST'])\n",
    "def run_simulation():\n",
    "    # Extracting parameters from the submitted form\n",
    "    N = float(request.form['N'])\n",
    "    Oc = float(request.form['Oc'])\n",
    "    W = float(request.form['W'])\n",
    "    C = float(request.form['C'])\n",
    "    L = float(request.form['L'])\n",
    "    Cl = float(request.form['Cl'])\n",
    "    Ee = float(request.form['Ee'])\n",
    "    A = float(request.form['A'])\n",
    "    En = float(request.form['En'])\n",
    "\n",
    "    # Run Monte Carlo simulation\n",
    "    results, graph_data = run_monte_carlo_simulation(N, Oc, W, C, L, Cl, Ee, A, En)\n",
    "\n",
    "    # Return the results and graph data\n",
    "    return jsonify({'stats': results, 'graph': graph_data})\n",
    "\n",
    "if __name__ == '__main__':\n",
    "    app.run(debug=True)\n"
   ]
  },
  {
   "cell_type": "code",
   "execution_count": null,
   "id": "c33f6773",
   "metadata": {},
   "outputs": [],
   "source": []
  }
 ],
 "metadata": {
  "kernelspec": {
   "display_name": "Python 3 (ipykernel)",
   "language": "python",
   "name": "python3"
  },
  "language_info": {
   "codemirror_mode": {
    "name": "ipython",
    "version": 3
   },
   "file_extension": ".py",
   "mimetype": "text/x-python",
   "name": "python",
   "nbconvert_exporter": "python",
   "pygments_lexer": "ipython3",
   "version": "3.11.5"
  }
 },
 "nbformat": 4,
 "nbformat_minor": 5
}
